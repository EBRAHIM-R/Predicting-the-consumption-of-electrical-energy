{
 "cells": [
  {
   "cell_type": "code",
   "execution_count": 5,
   "metadata": {},
   "outputs": [],
   "source": [
    "from data_preprocessing import *\n",
    "import math\n",
    "from sklearn.metrics import mean_squared_error\n",
    "from sklearn.metrics import mean_absolute_error\n",
    "from sklearn.linear_model import SGDRegressor\n",
    "from sklearn.ensemble import RandomForestRegressor\n",
    "from sklearn.linear_model import LogisticRegression"
   ]
  },
  {
   "cell_type": "code",
   "execution_count": 6,
   "metadata": {},
   "outputs": [],
   "source": [
    "# define linear model\n",
    "lin_model = SGDRegressor(penalty=\"elasticnet\", tol=10, random_state=42)\n",
    "\n",
    "# define random forest model\n",
    "rf_model = RandomForestRegressor(\n",
    "    n_estimators=100, criterion='mse', min_samples_leaf=0.001, random_state=42\n",
    ")"
   ]
  },
  {
   "cell_type": "code",
   "execution_count": 7,
   "metadata": {},
   "outputs": [],
   "source": [
    "def compute_learning_curves(model, X_train,X_val, y, y_val, curve_step, verbose=False):\n",
    "    \n",
    "    # n_train_obs is number of rows\n",
    "    n_train_obs = X_train.shape[0]\n",
    "    \n",
    "    # n_iter is number of iterations     \n",
    "    n_iter = math.ceil(n_train_obs / curve_step)\n",
    "    \n",
    "    # define lists that contains erroes and steps numbers    \n",
    "    train_errors, val_errors, steps = [], [], []\n",
    "    \n",
    "    # loop for train and predict model in number of iterations    \n",
    "    for i in range(n_iter):\n",
    "        \n",
    "        # amounts data points         \n",
    "        n_obs = (i+1) * curve_step\n",
    "        n_obs = min(n_obs, n_train_obs)\n",
    "        \n",
    "        # training sample        \n",
    "        model.fit(X_train[:n_obs], y_train[:n_obs])\n",
    "        \n",
    "        # predicting training_sample\n",
    "        y_train_predict = model.predict(X_train[:n_obs])\n",
    "        \n",
    "        # predicting testing_sample\n",
    "        y_val_predict = model.predict(X_val)\n",
    "        \n",
    "        # calculating errors        \n",
    "        train_mse = mean_squared_error(y_train[:n_obs], y_train_predict)\n",
    "        val_mse = mean_squared_error(y_val, y_val_predict)\n",
    "        val_mse=val_mse  \n",
    "        train_mse=train_mse\n",
    "        \n",
    "        # appending train_mse, val_mse, n_obs on their lists\n",
    "        train_errors.append(train_mse)\n",
    "        val_errors.append(val_mse)\n",
    "        steps.append(n_obs)\n",
    "        \n",
    "        # if you like show results during training\n",
    "        if verbose:\n",
    "            msg = \"Iteration {0}/{1}: train_rmse={2:.2f}, val_rmse={3:.2f}\".format(\n",
    "                i+1, n_iter, np.sqrt(train_mse), np.sqrt(val_mse)\n",
    "            )\n",
    "            print(msg)\n",
    "    return steps, train_errors, val_errors\n",
    "\n",
    "# drawing the differnce between train_rmse and val_rmse\n",
    "def plot_learning_curves(steps, train_errors, val_errors, ax=None, title=\"\"):\n",
    "    if ax is None:\n",
    "        _, ax = plt.subplots(1, 1, figsize=(6, 4))\n",
    "    train_rmse = np.sqrt(train_errors)\n",
    "    val_rmse = np.sqrt(val_errors)\n",
    "    ax.plot(steps, train_rmse, color=\"tab:blue\",\n",
    "            marker=\".\", label=\"training\")\n",
    "    ax.plot(steps, val_rmse, color=\"tab:orange\",\n",
    "            marker=\".\", label=\"validation\")\n",
    "    ylim = (0.8*np.median(train_rmse),\n",
    "            1.5*np.median(val_rmse))\n",
    "    ax.set_ylim(ylim)\n",
    "    ax.set_xlabel(\"Number of observations\")\n",
    "    ax.set_ylabel(\"RMSE (MW)\")\n",
    "    ax.set_title(title)\n",
    "    ax.legend()\n",
    "    ax.grid()"
   ]
  },
  {
   "cell_type": "code",
   "execution_count": 8,
   "metadata": {},
   "outputs": [
    {
     "name": "stdout",
     "output_type": "stream",
     "text": [
      "Iteration 1/72: train_rmse=3191.89, val_rmse=23972.90\n",
      "Iteration 2/72: train_rmse=3083.56, val_rmse=14630.90\n",
      "Iteration 3/72: train_rmse=2970.62, val_rmse=10085.97\n",
      "Iteration 4/72: train_rmse=2851.61, val_rmse=10322.55\n",
      "Iteration 5/72: train_rmse=2853.35, val_rmse=7989.88\n",
      "Iteration 6/72: train_rmse=2821.44, val_rmse=6485.93\n",
      "Iteration 7/72: train_rmse=2902.15, val_rmse=6558.68\n",
      "Iteration 8/72: train_rmse=2941.16, val_rmse=5775.11\n",
      "Iteration 9/72: train_rmse=2868.31, val_rmse=5015.92\n",
      "Iteration 10/72: train_rmse=2830.65, val_rmse=5036.55\n",
      "Iteration 11/72: train_rmse=2840.32, val_rmse=4706.30\n",
      "Iteration 12/72: train_rmse=2778.87, val_rmse=4315.11\n",
      "Iteration 13/72: train_rmse=2800.34, val_rmse=3999.23\n",
      "Iteration 14/72: train_rmse=2833.61, val_rmse=3961.71\n",
      "Iteration 15/72: train_rmse=2781.67, val_rmse=3391.02\n",
      "Iteration 16/72: train_rmse=2803.83, val_rmse=3067.02\n",
      "Iteration 17/72: train_rmse=2833.88, val_rmse=3038.22\n",
      "Iteration 18/72: train_rmse=3061.18, val_rmse=3066.88\n",
      "Iteration 19/72: train_rmse=3057.72, val_rmse=3088.31\n",
      "Iteration 20/72: train_rmse=2989.40, val_rmse=3037.35\n",
      "Iteration 21/72: train_rmse=2997.71, val_rmse=3051.69\n",
      "Iteration 22/72: train_rmse=2947.57, val_rmse=3025.91\n",
      "Iteration 23/72: train_rmse=2972.43, val_rmse=3026.71\n",
      "Iteration 24/72: train_rmse=2997.78, val_rmse=3011.56\n",
      "Iteration 25/72: train_rmse=3015.32, val_rmse=3017.49\n",
      "Iteration 26/72: train_rmse=2990.33, val_rmse=3007.82\n",
      "Iteration 27/72: train_rmse=2987.79, val_rmse=3029.92\n",
      "Iteration 28/72: train_rmse=2977.95, val_rmse=3052.35\n",
      "Iteration 29/72: train_rmse=2953.79, val_rmse=3010.00\n",
      "Iteration 30/72: train_rmse=2936.01, val_rmse=3012.06\n",
      "Iteration 31/72: train_rmse=2933.26, val_rmse=3005.57\n",
      "Iteration 32/72: train_rmse=2940.43, val_rmse=3006.97\n",
      "Iteration 33/72: train_rmse=2949.09, val_rmse=3002.68\n",
      "Iteration 34/72: train_rmse=2949.42, val_rmse=3001.39\n",
      "Iteration 35/72: train_rmse=3004.98, val_rmse=3010.76\n",
      "Iteration 36/72: train_rmse=3015.51, val_rmse=3018.64\n",
      "Iteration 37/72: train_rmse=3003.93, val_rmse=3003.06\n",
      "Iteration 38/72: train_rmse=2996.50, val_rmse=3001.01\n",
      "Iteration 39/72: train_rmse=2983.40, val_rmse=3004.68\n",
      "Iteration 40/72: train_rmse=2976.45, val_rmse=2989.05\n",
      "Iteration 41/72: train_rmse=2993.57, val_rmse=2985.57\n",
      "Iteration 42/72: train_rmse=2987.53, val_rmse=2975.25\n",
      "Iteration 43/72: train_rmse=2992.97, val_rmse=2978.60\n",
      "Iteration 44/72: train_rmse=2988.57, val_rmse=2964.67\n",
      "Iteration 45/72: train_rmse=2977.91, val_rmse=2964.57\n",
      "Iteration 46/72: train_rmse=2970.56, val_rmse=2980.79\n",
      "Iteration 47/72: train_rmse=2962.33, val_rmse=2979.27\n",
      "Iteration 48/72: train_rmse=2943.70, val_rmse=2986.88\n",
      "Iteration 49/72: train_rmse=2943.65, val_rmse=2980.67\n",
      "Iteration 50/72: train_rmse=2958.66, val_rmse=2979.93\n",
      "Iteration 51/72: train_rmse=2951.19, val_rmse=2980.49\n",
      "Iteration 52/72: train_rmse=2962.62, val_rmse=3005.42\n",
      "Iteration 53/72: train_rmse=2978.68, val_rmse=2977.44\n",
      "Iteration 54/72: train_rmse=2979.92, val_rmse=2995.11\n",
      "Iteration 55/72: train_rmse=2955.40, val_rmse=2991.56\n",
      "Iteration 56/72: train_rmse=2961.87, val_rmse=2976.33\n",
      "Iteration 57/72: train_rmse=2970.20, val_rmse=2963.41\n",
      "Iteration 58/72: train_rmse=2960.05, val_rmse=2959.36\n",
      "Iteration 59/72: train_rmse=2974.85, val_rmse=2959.21\n",
      "Iteration 60/72: train_rmse=2989.22, val_rmse=2971.15\n",
      "Iteration 61/72: train_rmse=2988.09, val_rmse=2972.33\n",
      "Iteration 62/72: train_rmse=2978.77, val_rmse=2960.82\n",
      "Iteration 63/72: train_rmse=2965.60, val_rmse=2959.08\n",
      "Iteration 64/72: train_rmse=2954.54, val_rmse=2962.72\n",
      "Iteration 65/72: train_rmse=2950.56, val_rmse=2968.98\n",
      "Iteration 66/72: train_rmse=2960.61, val_rmse=2967.18\n",
      "Iteration 67/72: train_rmse=2945.78, val_rmse=2959.47\n",
      "Iteration 68/72: train_rmse=2951.42, val_rmse=2968.31\n",
      "Iteration 69/72: train_rmse=2953.75, val_rmse=2958.43\n",
      "Iteration 70/72: train_rmse=2983.37, val_rmse=2966.73\n",
      "Iteration 71/72: train_rmse=2982.66, val_rmse=2962.23\n",
      "Iteration 72/72: train_rmse=2982.60, val_rmse=2963.48\n"
     ]
    }
   ],
   "source": [
    "# linear model training\n",
    "steps, train_mse, val_mse = compute_learning_curves(lin_model, X_train_prep, X_test_prep, y_train, y_test,  500, verbose=True)"
   ]
  },
  {
   "cell_type": "code",
   "execution_count": 9,
   "metadata": {},
   "outputs": [
    {
     "data": {
      "image/png": "[encoded data removed]",
      "text/plain": [
       "<Figure size 432x288 with 1 Axes>"
      ]
     },
     "metadata": {
      "needs_background": "light"
     },
     "output_type": "display_data"
    }
   ],
   "source": [
    "# result of lin_model\n",
    "plot_learning_curves(steps, train_mse, val_mse, title=\"Linear model\")"
   ]
  },
  {
   "cell_type": "code",
   "execution_count": 10,
   "metadata": {},
   "outputs": [
    {
     "name": "stdout",
     "output_type": "stream",
     "text": [
      "Iteration 1/72: train_rmse=584.31, val_rmse=3642.63\n",
      "Iteration 2/72: train_rmse=492.38, val_rmse=3531.92\n",
      "Iteration 3/72: train_rmse=555.51, val_rmse=3423.59\n",
      "Iteration 4/72: train_rmse=533.04, val_rmse=3162.02\n",
      "Iteration 5/72: train_rmse=772.43, val_rmse=2622.90\n",
      "Iteration 6/72: train_rmse=816.16, val_rmse=2521.57\n",
      "Iteration 7/72: train_rmse=919.29, val_rmse=2302.82\n",
      "Iteration 8/72: train_rmse=1003.88, val_rmse=2208.02\n",
      "Iteration 9/72: train_rmse=1099.87, val_rmse=2210.56\n",
      "Iteration 10/72: train_rmse=1055.17, val_rmse=2194.11\n",
      "Iteration 11/72: train_rmse=1131.92, val_rmse=2190.51\n",
      "Iteration 12/72: train_rmse=1111.03, val_rmse=2194.52\n",
      "Iteration 13/72: train_rmse=1228.88, val_rmse=2221.28\n",
      "Iteration 14/72: train_rmse=1228.29, val_rmse=2215.96\n",
      "Iteration 15/72: train_rmse=1297.04, val_rmse=2254.32\n",
      "Iteration 16/72: train_rmse=1301.86, val_rmse=2195.61\n",
      "Iteration 17/72: train_rmse=1372.59, val_rmse=2235.71\n",
      "Iteration 18/72: train_rmse=1466.28, val_rmse=2210.60\n",
      "Iteration 19/72: train_rmse=1527.96, val_rmse=2245.37\n",
      "Iteration 20/72: train_rmse=1505.21, val_rmse=2238.78\n",
      "Iteration 21/72: train_rmse=1527.11, val_rmse=2246.92\n",
      "Iteration 22/72: train_rmse=1508.96, val_rmse=2215.63\n",
      "Iteration 23/72: train_rmse=1572.75, val_rmse=2241.26\n",
      "Iteration 24/72: train_rmse=1491.84, val_rmse=2069.52\n",
      "Iteration 25/72: train_rmse=1545.60, val_rmse=2050.31\n",
      "Iteration 26/72: train_rmse=1520.39, val_rmse=2043.92\n",
      "Iteration 27/72: train_rmse=1551.24, val_rmse=2071.18\n",
      "Iteration 28/72: train_rmse=1529.47, val_rmse=2078.47\n",
      "Iteration 29/72: train_rmse=1566.79, val_rmse=2116.35\n",
      "Iteration 30/72: train_rmse=1562.73, val_rmse=2121.27\n",
      "Iteration 31/72: train_rmse=1534.20, val_rmse=2086.02\n",
      "Iteration 32/72: train_rmse=1532.60, val_rmse=2100.27\n",
      "Iteration 33/72: train_rmse=1612.18, val_rmse=2149.87\n",
      "Iteration 34/72: train_rmse=1599.66, val_rmse=2122.32\n",
      "Iteration 35/72: train_rmse=1609.21, val_rmse=2115.67\n",
      "Iteration 36/72: train_rmse=1613.63, val_rmse=2094.85\n",
      "Iteration 37/72: train_rmse=1620.14, val_rmse=2085.47\n",
      "Iteration 38/72: train_rmse=1625.62, val_rmse=2088.93\n",
      "Iteration 39/72: train_rmse=1635.54, val_rmse=2098.52\n",
      "Iteration 40/72: train_rmse=1638.71, val_rmse=2082.66\n",
      "Iteration 41/72: train_rmse=1635.79, val_rmse=2085.01\n",
      "Iteration 42/72: train_rmse=1615.26, val_rmse=2057.87\n",
      "Iteration 43/72: train_rmse=1624.33, val_rmse=2029.73\n",
      "Iteration 44/72: train_rmse=1616.23, val_rmse=2038.16\n",
      "Iteration 45/72: train_rmse=1630.72, val_rmse=2060.06\n",
      "Iteration 46/72: train_rmse=1620.02, val_rmse=2067.79\n",
      "Iteration 47/72: train_rmse=1624.68, val_rmse=2084.66\n",
      "Iteration 48/72: train_rmse=1612.03, val_rmse=2085.23\n",
      "Iteration 49/72: train_rmse=1646.61, val_rmse=2084.87\n",
      "Iteration 50/72: train_rmse=1657.20, val_rmse=2069.31\n",
      "Iteration 51/72: train_rmse=1663.69, val_rmse=2066.30\n",
      "Iteration 52/72: train_rmse=1651.92, val_rmse=2055.90\n",
      "Iteration 53/72: train_rmse=1680.60, val_rmse=2060.60\n",
      "Iteration 54/72: train_rmse=1670.65, val_rmse=2047.54\n",
      "Iteration 55/72: train_rmse=1677.26, val_rmse=2052.82\n",
      "Iteration 56/72: train_rmse=1681.18, val_rmse=2051.19\n",
      "Iteration 57/72: train_rmse=1706.08, val_rmse=2057.50\n",
      "Iteration 58/72: train_rmse=1698.74, val_rmse=2066.72\n",
      "Iteration 59/72: train_rmse=1710.78, val_rmse=2055.53\n",
      "Iteration 60/72: train_rmse=1699.04, val_rmse=2042.59\n",
      "Iteration 61/72: train_rmse=1706.96, val_rmse=2049.24\n",
      "Iteration 62/72: train_rmse=1698.15, val_rmse=2057.24\n",
      "Iteration 63/72: train_rmse=1705.12, val_rmse=2067.34\n",
      "Iteration 64/72: train_rmse=1702.37, val_rmse=2070.52\n",
      "Iteration 65/72: train_rmse=1705.05, val_rmse=2077.06\n",
      "Iteration 66/72: train_rmse=1693.46, val_rmse=2044.57\n",
      "Iteration 67/72: train_rmse=1711.44, val_rmse=2059.96\n",
      "Iteration 68/72: train_rmse=1712.16, val_rmse=2052.80\n",
      "Iteration 69/72: train_rmse=1717.99, val_rmse=2048.25\n",
      "Iteration 70/72: train_rmse=1755.33, val_rmse=2025.76\n",
      "Iteration 71/72: train_rmse=1767.89, val_rmse=2032.45\n",
      "Iteration 72/72: train_rmse=1770.27, val_rmse=2025.76\n"
     ]
    }
   ],
   "source": [
    "# random forest model training\n",
    "steps1, train_mse1, val_mse1 = compute_learning_curves(rf_model, X_train_prep, X_test_prep, y_train, y_test,  500, verbose=True)"
   ]
  },
  {
   "cell_type": "code",
   "execution_count": 12,
   "metadata": {},
   "outputs": [
    {
     "data": {
      "image/png": "[encoded data removed]",
      "text/plain": [
       "<Figure size 432x288 with 1 Axes>"
      ]
     },
     "metadata": {
      "needs_background": "light"
     },
     "output_type": "display_data"
    }
   ],
   "source": [
    "# result of random forest model\n",
    "plot_learning_curves(steps1, train_mse1, val_mse1, title=\"Random forest\")"
   ]
  },
  {
   "cell_type": "code",
   "execution_count": null,
   "metadata": {},
   "outputs": [],
   "source": []
  }
 ],
 "metadata": {
  "kernelspec": {
   "display_name": "Python 3",
   "language": "python",
   "name": "python3"
  },
  "language_info": {
   "codemirror_mode": {
    "name": "ipython",
    "version": 3
   },
   "file_extension": ".py",
   "mimetype": "text/x-python",
   "name": "python",
   "nbconvert_exporter": "python",
   "pygments_lexer": "ipython3",
   "version": "3.7.6"
  }
 },
 "nbformat": 4,
 "nbformat_minor": 4
}
